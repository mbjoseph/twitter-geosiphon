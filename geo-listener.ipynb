{
 "cells": [
  {
   "cell_type": "markdown",
   "metadata": {},
   "source": [
    "# Geolocated tweet listener\n",
    "\n",
    "This notebook defines and deploys a listener for geolocated tweets - those that have either a latitude/longitude coordinate, or a Twitter \"Place\", e.g., \"Denver, CO\" and associated bounding box information. Geolocated tweets are captured at random, and then sent to an S3 bucket for storage. "
   ]
  },
  {
   "cell_type": "code",
   "execution_count": null,
   "metadata": {},
   "outputs": [],
   "source": [
    "from tweepy.streaming import StreamListener\n",
    "from tweepy import OAuthHandler\n",
    "from tweepy import Stream\n",
    "import time\n",
    "import pandas as pd\n",
    "import os\n",
    "import json\n",
    "import boto3"
   ]
  },
  {
   "cell_type": "markdown",
   "metadata": {},
   "source": [
    "This `S3Listener` class is the workhorse, and inherits from the `tweepy.streaming.StreamListener` class. This was adapted from: https://github.com/Ccantey/GeoSearch-Tweepy"
   ]
  },
  {
   "cell_type": "code",
   "execution_count": null,
   "metadata": {},
   "outputs": [],
   "source": [
    "class S3Listener(StreamListener):\n",
    "    \"\"\"A listener that siphons tweets to an S3 bucket.\"\"\"\n",
    "    def __init__(self, tweet_dir, bucketname, sleep_sec=5):\n",
    "        \"\"\"Initialize a listener\n",
    "\n",
    "        Args:\n",
    "            tweet_dir (str): local directory to store tweets\n",
    "            bucketname (str): s3 bucket name to push tweets\n",
    "            sleep_sec (int): number of seconds to wait between pushes\n",
    "        \"\"\"\n",
    "        super().__init__()\n",
    "        self.s3 = boto3.resource('s3')\n",
    "        self.bucketname = bucketname\n",
    "        self.tweet_dir = tweet_dir\n",
    "        self.sleep_sec = sleep_sec\n",
    "        if not os.path.exists(tweet_dir):\n",
    "            os.makedirs(tweet_dir)\n",
    "\n",
    "    def on_status(self, status):\n",
    "        \"\"\"Instructions for managing an incoming tweet.\n",
    "\n",
    "        If a tweet has a lat/lon or \"place\", push to S3.\n",
    "        \"\"\"\n",
    "        time.sleep(self.sleep_sec)\n",
    "        has_geo = status.geo is not None\n",
    "        has_place = status.place is not None\n",
    "        if has_geo or has_place:\n",
    "            self._tweet_to_s3(status)\n",
    "\n",
    "    def on_exception(self, exception):\n",
    "        \"\"\"Print exceptions when the arise.\"\"\"\n",
    "        print(exception)\n",
    "        return\n",
    "\n",
    "    def _tweet_to_s3(self, status):\n",
    "        \"\"\"Send a tweet to S3.\"\"\"\n",
    "        id_str = status.id_str + \".json\"\n",
    "        destfile = os.path.join(self.tweet_dir, id_str)\n",
    "        with open(destfile, 'w') as outfile:\n",
    "            json.dump(status._json, outfile)\n",
    "        self.s3.meta.client.upload_file(destfile,\n",
    "                                        self.bucketname,\n",
    "                                        destfile)\n",
    "        os.remove(destfile)"
   ]
  },
  {
   "cell_type": "markdown",
   "metadata": {},
   "source": [
    "The next cell deals with authentication required to push to the S3 bucket. The user provides their credentials in a `creds.csv` file."
   ]
  },
  {
   "cell_type": "code",
   "execution_count": null,
   "metadata": {},
   "outputs": [],
   "source": [
    "creds = pd.read_csv('creds.csv')\n",
    "consumer_key = creds.consumer_key.values[0]\n",
    "consumer_secret = creds.consumer_secret.values[0]\n",
    "access_token = creds.access_token.values[0]\n",
    "access_token_secret = creds.access_token_secret.values[0]\n",
    "\n",
    "auth = OAuthHandler(consumer_key, consumer_secret)\n",
    "auth.set_access_token(access_token, access_token_secret)"
   ]
  },
  {
   "cell_type": "markdown",
   "metadata": {},
   "source": [
    "Below, a stream object is defined and the `filter` method is called, which runs until failure and stores tweets in the S3 bucket. "
   ]
  },
  {
   "cell_type": "code",
   "execution_count": null,
   "metadata": {},
   "outputs": [],
   "source": [
    "listener = S3Listener('data', 'earthlab-geolocated-tweets')\n",
    "stream = Stream(auth, listener)"
   ]
  },
  {
   "cell_type": "code",
   "execution_count": null,
   "metadata": {},
   "outputs": [],
   "source": [
    "stream.filter(locations=[-125,25,-65,48])"
   ]
  },
  {
   "cell_type": "code",
   "execution_count": null,
   "metadata": {},
   "outputs": [],
   "source": []
  }
 ],
 "metadata": {
  "kernelspec": {
   "display_name": "Python 3",
   "language": "python",
   "name": "python3"
  },
  "language_info": {
   "codemirror_mode": {
    "name": "ipython",
    "version": 3
   },
   "file_extension": ".py",
   "mimetype": "text/x-python",
   "name": "python",
   "nbconvert_exporter": "python",
   "pygments_lexer": "ipython3",
   "version": "3.6.6"
  }
 },
 "nbformat": 4,
 "nbformat_minor": 2
}
